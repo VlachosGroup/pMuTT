{
 "cells": [
  {
   "cell_type": "markdown",
   "metadata": {},
   "source": [
    "# Experimental Data to Empirical Object\n",
    "In this example, we will take experimental data (heat capacity, enthalpy of formation, and standard entropy) and convert it to a Shomate polynomial. We will then showcase some of the features of the object (such as calculating thermodynamic data). Note that even though we use a Shomate object in this example, the pMuTT Nasa object has the same functionality.\n",
    "\n",
    "## Topics Covered\n",
    "- Using pMuTT's constants for unit conversions\n",
    "- Create a Shomate object from experimental data\n",
    "- Calculate thermodynamic properties using the Shomate object\n",
    "- Plot the shape of the Shomate curve\n",
    "- Save the Shomate object as a JSON file\n",
    "\n",
    "## Import Experimental Data\n",
    "First, we need to initialize the experimental data. We will need: \n",
    "1. A range of temperatures in K\n",
    "2. Dimensionless heat capacities corresponding to the temperatures in (1)\n",
    "3. A reference temperature in K\n",
    "4. A dimensionless enthalpy corresponding to the reference temperature in (3)\n",
    "5. A dimensionless entropy corresponding to the reference temperature in (3)\n",
    "\n",
    "For this example, we will be thermodynamic data for methanol. Heat capacities and standard enthalpy were found on the [NIST webbook](https://webbook.nist.gov/cgi/cbook.cgi?ID=C67561&Units=SI&Mask=1#Thermo-Gas). The standard entropy was found on [Wikipedia](https://en.wikipedia.org/wiki/Methanol_(data_page%29)."
   ]
  },
  {
   "cell_type": "code",
   "execution_count": 1,
   "metadata": {},
   "outputs": [],
   "source": [
    "import numpy as np\n",
    "from pMuTT import constants as c\n",
    "\n",
    "T = np.array([50, 100, 150, 200, 273.15, 298.15, 300, 400, 500, 600, 700, \n",
    "              800, 900, 1000, 1100, 1200, 1300, 1400, 1500, 1750, 2000, \n",
    "              2250, 2500, 2750, 3000]) # K\n",
    "Cp = np.array([34.00, 36.95, 38.64, 39.71, 42.59, 44.06, 44.17, 51.63, 59.7, \n",
    "               67.19, 73.86, 79.76, 84.95, 89.54, 93.57, 97.12, 100.24, \n",
    "               102.98, 105.4, 110.2, 113.8, 116.5, 118.6, 120, 121]) # J/mol/K\n",
    "CpoR = Cp/c.R('J/mol/K')\n",
    "\n",
    "T_ref = c.T0('K')\n",
    "H_ref = -205. # kJ/mol\n",
    "HoRT_ref = H_ref/c.R('kJ/mol/K')/T_ref\n",
    "\n",
    "S_ref = 239.9 # J/mol/K\n",
    "SoR_ref = S_ref/c.R('J/mol/K')"
   ]
  },
  {
   "cell_type": "markdown",
   "metadata": {},
   "source": [
    "Note that the ``pMuTT.constants`` module contains functions for standard constants for easy use such as the molar gas constant (``pMuTT.constants.R``) and standard temperature (``~pMuTT.constants.T_ref``). The functions take a unit as an argument so that the code is more readable."
   ]
  },
  {
   "cell_type": "markdown",
   "metadata": {},
   "source": [
    "## Fitting the Shomate polynomial to the experimental data\n",
    "The Shomate polynomial can be created easily by feeding the data to the ``from_data`` method as shown below."
   ]
  },
  {
   "cell_type": "code",
   "execution_count": 2,
   "metadata": {},
   "outputs": [
    {
     "name": "stdout",
     "output_type": "stream",
     "text": [
      "Shomate object for Name: CH3OH\n",
      "\tphase: None\n",
      "\telements: None\n",
      "\treferences: None\n",
      "\tnotes: None\n",
      "\tstatmech_model: None\n",
      "\tT_low: 50.0\n",
      "\tT_high: 3000.0\n",
      "\ta: [ 2.05590621e+01  9.56149349e+01 -3.13060970e+01  3.51406005e+00\n",
      "  2.51091403e-02 -2.15025605e+02  2.37773772e+02  2.05000000e+02]\n"
     ]
    }
   ],
   "source": [
    "from pMuTT.empirical.shomate import Shomate\n",
    "\n",
    "CH3OH_shomate = Shomate.from_data(name='CH3OH', T=T, CpoR=CpoR,\n",
    "                                  T_ref=T_ref, HoRT_ref=HoRT_ref,\n",
    "                                  SoR_ref=SoR_ref)\n",
    "print(CH3OH_shomate)"
   ]
  },
  {
   "cell_type": "markdown",
   "metadata": {},
   "source": [
    "## Calculating thermodynamic properties\n",
    "Now that we've fit our Shomate polynomial to experimental data, we can calculate thermodynamic quantities for a range of temperatures. Let's compare our Shomate's estimates to the experimental data fed."
   ]
  },
  {
   "cell_type": "code",
   "execution_count": 3,
   "metadata": {},
   "outputs": [],
   "source": [
    "Cp_shomate = CH3OH_shomate.get_Cp(T=T, units='J/mol/K')\n",
    "H_shomate = CH3OH_shomate.get_H(T=T_ref, units='kJ/mol')\n",
    "S_shomate = CH3OH_shomate.get_S(T=T_ref, units='J/mol/K')"
   ]
  },
  {
   "cell_type": "markdown",
   "metadata": {},
   "source": [
    "## Compare the Shomate polynomial to the experimental data\n",
    "Now that we've calculated the Shomate estimates for heat capacity, enthalpy and entropy, we can compare the experimental values to the computational values.\n",
    "\n",
    "### Compare using a table"
   ]
  },
  {
   "cell_type": "code",
   "execution_count": 4,
   "metadata": {},
   "outputs": [
    {
     "name": "stdout",
     "output_type": "stream",
     "text": [
      "T(K)\tCp expt (J/mol/K)\tCp shomate (J/mol/K)\n",
      "50.0\t34.0\t35.30563893530353\n",
      "100.0\t36.95\t32.321922664844564\n",
      "150.0\t38.64\t35.32473685239867\n",
      "200.0\t39.71\t39.085646145788054\n",
      "273.15\t42.59\t44.74865557919212\n",
      "298.15\t44.06\t46.65934736724499\n",
      "300.0\t44.17\t46.79986387132593\n",
      "400.0\t51.63\t54.17789247743157\n",
      "500.0\t59.7\t61.07969934074723\n",
      "600.0\t67.19\t67.48661268273052\n",
      "700.0\t73.86\t73.40609472801535\n",
      "800.0\t79.76\t78.8535397128205\n",
      "900.0\t84.95\t83.8473136593712\n",
      "1000.0\t89.54\t88.40706920400436\n",
      "1100.0\t93.57\t92.55307842592322\n",
      "1200.0\t97.12\t96.30593700378871\n",
      "1300.0\t100.24\t99.68642099494576\n",
      "1400.0\t102.98\t102.71541246047428\n",
      "1500.0\t105.4\t105.41385855637591\n",
      "1750.0\t110.2\t110.85164069856901\n",
      "2000.0\t113.8\t114.68330172344231\n",
      "2250.0\t116.5\t117.23784982622658\n",
      "2500.0\t118.6\t118.84449906041064\n",
      "2750.0\t120.0\t119.83256259034175\n",
      "3000.0\t121.0\t120.5314053562806\n",
      "-\n",
      "T_ref: 298.15 K\n",
      "-\n",
      "H expt: -205.0 kJ/mol\n",
      "H shomate: -205.0 kJ/mol\n",
      "-\n",
      "S expt: 239.9 J/mol/K\n",
      "S shomate: 239.9 J/mol/K\n"
     ]
    }
   ],
   "source": [
    "print('T(K)\\tCp expt (J/mol/K)\\tCp shomate (J/mol/K)')\n",
    "for T_i, Cp1, Cp2 in zip(T, Cp, Cp_shomate):\n",
    "    print('{}\\t{}\\t{}'.format(T_i, Cp1, Cp2))\n",
    "\n",
    "print('-')\n",
    "print('T_ref: {} K'.format(T_ref))\n",
    "print('-')\n",
    "print('H expt: {} kJ/mol'.format(H_ref))\n",
    "print('H shomate: {} kJ/mol'.format(H_shomate))\n",
    "print('-')\n",
    "print('S expt: {} J/mol/K'.format(S_ref))\n",
    "print('S shomate: {} J/mol/K'.format(S_shomate))"
   ]
  },
  {
   "cell_type": "markdown",
   "metadata": {},
   "source": [
    "### Compare using a plot"
   ]
  },
  {
   "cell_type": "code",
   "execution_count": 5,
   "metadata": {
    "scrolled": false
   },
   "outputs": [
    {
     "data": {
      "image/png": "[encoded data removed]",
      "text/plain": [
       "<matplotlib.figure.Figure at 0x1b85976ae48>"
      ]
     },
     "metadata": {},
     "output_type": "display_data"
    }
   ],
   "source": [
    "fig, axes = CH3OH_shomate.plot_empirical(Cp_units='J/mol/K', \n",
    "                                         H_units='kJ/mol', \n",
    "                                         S_units='J/mol/K', \n",
    "                                         G_units='kJ/mol')\n",
    "# Add experimental data to plot\n",
    "axes[0].plot(T, Cp, 'ko')\n",
    "axes[1].plot(T_ref, H_ref, 'ko')\n",
    "axes[2].plot(T_ref, S_ref, 'ko')\n",
    "axes[3].plot(T_ref, H_ref - T_ref * S_ref * c.convert_unit(from_='J', to='kJ'), 'ko')\n",
    "\n",
    "# Add legend to plot\n",
    "axes[0].legend(['Shomate', 'Expt'])\n",
    "axes[1].legend(['Shomate', 'Expt'])\n",
    "axes[2].legend(['Shomate', 'Expt'])\n",
    "axes[3].legend(['Shomate', 'Expt'])\n",
    "\n",
    "# Adjust figure size so it's viewable\n",
    "fig.set_size_inches((10, 8))"
   ]
  },
  {
   "cell_type": "markdown",
   "metadata": {},
   "source": [
    "Note that in this code's section, we showcase the ``pMuTT.constants.convert_unit`` function. Similarly to the ``c.R`` and ``c.T0`` functions shown above, this helps to increase code readability.\n",
    "\n",
    "## Save the Shomate polynomial as a JSON file\n",
    "If we would like to save our Shomate object, we can save it in JSON format with the help of the ``pMuTT.io_.jsonio.pMuTTEncoder``."
   ]
  },
  {
   "cell_type": "code",
   "execution_count": 6,
   "metadata": {},
   "outputs": [],
   "source": [
    "import json\n",
    "from pMuTT.io_.jsonio import pMuTTEncoder\n",
    "\n",
    "with open('CH3OH_shomate.json', 'w') as f_ptr:\n",
    "    json.dump(CH3OH_shomate, f_ptr, cls=pMuTTEncoder, indent=True)"
   ]
  },
  {
   "cell_type": "markdown",
   "metadata": {},
   "source": [
    "This block will save the Shomate object to ``CH3OH_shomate.json``. Upon opening, the file will look like this:\n",
    "```\n",
    "{\n",
    " \"class\": \"<class 'pMuTT.empirical.shomate.Shomate'>\",\n",
    " \"name\": \"CH3OH\",\n",
    " \"phase\": null,\n",
    " \"elements\": null,\n",
    " \"notes\": null,\n",
    " \"references\": null,\n",
    " \"statmech_model\": null,\n",
    " \"a\": [\n",
    "  20.559062051378444,\n",
    "  95.61493492328495,\n",
    "  -31.306096957035635,\n",
    "  3.514060046069981,\n",
    "  0.025109140306619166,\n",
    "  -215.02560486141684,\n",
    "  237.77377186255637,\n",
    "  205.0\n",
    " ],\n",
    " \"T_low\": 50.0,\n",
    " \"T_high\": 3000.0\n",
    "}\n",
    "```"
   ]
  },
  {
   "cell_type": "markdown",
   "metadata": {},
   "source": [
    "## Loading the Shomate polynomial from a JSON file\n",
    "Now that we've saved the Shomate object, we can open it using ``pMuTT.io_.jsonio.json_to_pMuTT``."
   ]
  },
  {
   "cell_type": "code",
   "execution_count": 7,
   "metadata": {},
   "outputs": [
    {
     "name": "stdout",
     "output_type": "stream",
     "text": [
      "Shomate object for Name: CH3OH\n",
      "\tphase: None\n",
      "\telements: None\n",
      "\treferences: None\n",
      "\tnotes: None\n",
      "\tstatmech_model: None\n",
      "\tT_low: 50.0\n",
      "\tT_high: 3000.0\n",
      "\ta: [20.559062051378444, 95.61493492328495, -31.306096957035635, 3.514060046069981, 0.025109140306619166, -215.02560486141684, 237.77377186255637, 205.0]\n"
     ]
    }
   ],
   "source": [
    "from pMuTT.io_.jsonio import json_to_pMuTT\n",
    "\n",
    "with open('CH3OH_shomate.json', 'r') as f_ptr:\n",
    "    CH3OH_json = json.load(f_ptr, object_hook=json_to_pMuTT)\n",
    "\n",
    "print(CH3OH_json)"
   ]
  }
 ],
 "metadata": {
  "kernelspec": {
   "display_name": "Python 3",
   "language": "python",
   "name": "python3"
  },
  "language_info": {
   "codemirror_mode": {
    "name": "ipython",
    "version": 3
   },
   "file_extension": ".py",
   "mimetype": "text/x-python",
   "name": "python",
   "nbconvert_exporter": "python",
   "pygments_lexer": "ipython3",
   "version": "3.6.5"
  }
 },
 "nbformat": 4,
 "nbformat_minor": 2
}
