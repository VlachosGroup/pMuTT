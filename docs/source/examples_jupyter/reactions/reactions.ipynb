{
 "cells": [
  {
   "cell_type": "markdown",
   "metadata": {},
   "source": [
    "# Reactions\n",
    "In this example, we will initialize a reaction that represents the formation of water from its elements (i.e. H2 + 0.5O2 -> H2O) and calculate reaction properties. Note that in this example, we will make arbitrary transition state species and BEP relationships so the values calculated are not representative of real-world reactions.\n",
    "\n",
    "## Topics Covered\n",
    "- Read a thermdat file and convert it to a dictionary of ``Nasa`` objects\n",
    "- Initialize a ``Reaction`` object manually and from strings\n",
    "- Add a BEP relationship to a ``Reaction`` object\n",
    "- Calculate thermodynamic and kinetic properties using the ``Reaction`` object\n",
    "- Save the ``Reaction`` object as a ``JSON`` file\n",
    "\n",
    "## Files Required\n",
    "- [thermdat](thermdat) Thermdat file used to initialize ``Nasa`` species"
   ]
  },
  {
   "cell_type": "markdown",
   "metadata": {},
   "source": [
    "## Initialize Species Used For Reaction\n",
    "First, we need to describe our species as pMuTT objects. For this example, we will be importing the thermdat from the [combustion database by Berkeley](http://combustion.berkeley.edu/gri_mech/version30/files30/thermo30.dat). We will store the species in a dictionary for code clarity later on."
   ]
  },
  {
   "cell_type": "code",
   "execution_count": 1,
   "metadata": {
    "scrolled": true
   },
   "outputs": [
    {
     "name": "stdout",
     "output_type": "stream",
     "text": [
      "{'H2': Nasa object for Name: H2\n",
      "\tphase: G\n",
      "\telements: {'H': 2}\n",
      "\treferences: None\n",
      "\tnotes: TPIS78\n",
      "\tstatmech_model: None\n",
      "\tT_low: 200.0\n",
      "\tT_mid: 1000.0\n",
      "\tT_high: 3500.0\n",
      "\ta_low: [ 2.34433112e+00  7.98052075e-03 -1.94781510e-05  2.01572094e-08\n",
      " -7.37611761e-12 -9.17935173e+02  6.83010238e-01]\n",
      "\ta_high: [ 3.33727920e+00 -4.94024731e-05  4.99456778e-07 -1.79566394e-10\n",
      "  2.00255376e-14 -9.50158922e+02 -3.20502331e+00],\n",
      " 'H2O': Nasa object for Name: H2O\n",
      "\tphase: G\n",
      "\telements: {'H': 2, 'O': 1}\n",
      "\treferences: None\n",
      "\tnotes: L 8/89\n",
      "\tstatmech_model: None\n",
      "\tT_low: 200.0\n",
      "\tT_mid: 1000.0\n",
      "\tT_high: 3500.0\n",
      "\ta_low: [ 4.19864056e+00 -2.03643410e-03  6.52040211e-06 -5.48797062e-09\n",
      "  1.77197817e-12 -3.02937267e+04 -8.49032208e-01]\n",
      "\ta_high: [ 3.03399249e+00  2.17691804e-03 -1.64072518e-07 -9.70419870e-11\n",
      "  1.68200992e-14 -3.00042971e+04  4.96677010e+00],\n",
      " 'O2': Nasa object for Name: O2\n",
      "\tphase: G\n",
      "\telements: {'O': 2}\n",
      "\treferences: None\n",
      "\tnotes: TPIS89\n",
      "\tstatmech_model: None\n",
      "\tT_low: 200.0\n",
      "\tT_mid: 1000.0\n",
      "\tT_high: 3500.0\n",
      "\ta_low: [ 3.78245636e+00 -2.99673416e-03  9.84730201e-06 -9.68129509e-09\n",
      "  3.24372837e-12 -1.06394356e+03  3.65767573e+00]\n",
      "\ta_high: [ 3.28253784e+00  1.48308754e-03 -7.57966669e-07  2.09470555e-10\n",
      " -2.16717794e-14 -1.08845772e+03  5.45323129e+00]}\n"
     ]
    }
   ],
   "source": [
    "from pprint import pprint\n",
    "from pMuTT.io_.thermdat import read_thermdat\n",
    "from pMuTT import pMuTT_list_to_dict\n",
    "\n",
    "# The output will be a list\n",
    "species_list = read_thermdat(filename='thermdat')\n",
    "\n",
    "# This function converts the list to a dict for easier usage downstream\n",
    "species_dict = pMuTT_list_to_dict(pMuTT_list=species_list, key='name')\n",
    "\n",
    "# (Optional) Print the species_dict to see what's in it\n",
    "pprint(species_dict)"
   ]
  },
  {
   "cell_type": "markdown",
   "metadata": {},
   "source": [
    "To calculate transition state properties, we will need to represent the transition state species as a pMuTT object. For this example, we will create a new ``Nasa`` object based on the H2O entry but modify the a6 parameter arbitrarily to give it a higher enthalpy."
   ]
  },
  {
   "cell_type": "code",
   "execution_count": 2,
   "metadata": {
    "scrolled": true
   },
   "outputs": [
    {
     "name": "stdout",
     "output_type": "stream",
     "text": [
      "{'H2': Nasa object for Name: H2\n",
      "\tphase: G\n",
      "\telements: {'H': 2}\n",
      "\treferences: None\n",
      "\tnotes: TPIS78\n",
      "\tstatmech_model: None\n",
      "\tT_low: 200.0\n",
      "\tT_mid: 1000.0\n",
      "\tT_high: 3500.0\n",
      "\ta_low: [ 2.34433112e+00  7.98052075e-03 -1.94781510e-05  2.01572094e-08\n",
      " -7.37611761e-12 -9.17935173e+02  6.83010238e-01]\n",
      "\ta_high: [ 3.33727920e+00 -4.94024731e-05  4.99456778e-07 -1.79566394e-10\n",
      "  2.00255376e-14 -9.50158922e+02 -3.20502331e+00],\n",
      " 'H2O': Nasa object for Name: H2O\n",
      "\tphase: G\n",
      "\telements: {'H': 2, 'O': 1}\n",
      "\treferences: None\n",
      "\tnotes: L 8/89\n",
      "\tstatmech_model: None\n",
      "\tT_low: 200.0\n",
      "\tT_mid: 1000.0\n",
      "\tT_high: 3500.0\n",
      "\ta_low: [ 4.19864056e+00 -2.03643410e-03  6.52040211e-06 -5.48797062e-09\n",
      "  1.77197817e-12 -3.02937267e+04 -8.49032208e-01]\n",
      "\ta_high: [ 3.03399249e+00  2.17691804e-03 -1.64072518e-07 -9.70419870e-11\n",
      "  1.68200992e-14 -3.00042971e+04  4.96677010e+00],\n",
      " 'H2O_TS': Nasa object for Name: H2O\n",
      "\tphase: G\n",
      "\telements: {'H': 2, 'O': 1}\n",
      "\treferences: None\n",
      "\tnotes: L 8/89\n",
      "\tstatmech_model: None\n",
      "\tT_low: 200.0\n",
      "\tT_mid: 1000.0\n",
      "\tT_high: 3500.0\n",
      "\ta_low: [ 4.19864056e+00 -2.03643410e-03  6.52040211e-06 -5.48797062e-09\n",
      "  1.77197817e-12 -3.02437267e+04 -8.49032208e-01]\n",
      "\ta_high: [ 3.03399249e+00  2.17691804e-03 -1.64072518e-07 -9.70419870e-11\n",
      "  1.68200992e-14 -2.99542971e+04  4.96677010e+00],\n",
      " 'O2': Nasa object for Name: O2\n",
      "\tphase: G\n",
      "\telements: {'O': 2}\n",
      "\treferences: None\n",
      "\tnotes: TPIS89\n",
      "\tstatmech_model: None\n",
      "\tT_low: 200.0\n",
      "\tT_mid: 1000.0\n",
      "\tT_high: 3500.0\n",
      "\ta_low: [ 3.78245636e+00 -2.99673416e-03  9.84730201e-06 -9.68129509e-09\n",
      "  3.24372837e-12 -1.06394356e+03  3.65767573e+00]\n",
      "\ta_high: [ 3.28253784e+00  1.48308754e-03 -7.57966669e-07  2.09470555e-10\n",
      " -2.16717794e-14 -1.08845772e+03  5.45323129e+00]}\n"
     ]
    }
   ],
   "source": [
    "from copy import deepcopy\n",
    "\n",
    "# Make a copy so we don't edit the original H2O\n",
    "H2O_TS = deepcopy(species_dict['H2O'])\n",
    "\n",
    "# Increase the H/RT value\n",
    "H2O_TS.a_low[5] += 50.\n",
    "H2O_TS.a_high[5] += 50.\n",
    "\n",
    "# Add it to the dictionary\n",
    "species_dict['H2O_TS'] = H2O_TS\n",
    "\n",
    "# (Optional) Print the new dictionary to see the new entry\n",
    "pprint(species_dict)"
   ]
  },
  {
   "cell_type": "markdown",
   "metadata": {},
   "source": [
    "## Initialize Reaction Manually\n",
    "Let us initialize the reaction manually. You will have to feed the reactants, transition states, products and their stoichiometries."
   ]
  },
  {
   "cell_type": "code",
   "execution_count": 3,
   "metadata": {},
   "outputs": [
    {
     "name": "stdout",
     "output_type": "stream",
     "text": [
      "Creating Reaction object manually: 1.0H2+0.5O2=1.0H2O=1.0H2O\n"
     ]
    }
   ],
   "source": [
    "from pMuTT.reaction import Reaction\n",
    "\n",
    "rxn = Reaction(reactants=[species_dict['H2'], species_dict['O2']], reactants_stoich=[1., 0.5],\n",
    "               products =[species_dict['H2O']], products_stoich=[1.],\n",
    "               transition_state=species_dict['H2O_TS'], transition_state_stoich=[1.])\n",
    "# (Optional) Converting a Reaction object to a string will give its stoichiometric formula\n",
    "print('Creating Reaction object manually: {}'.format(rxn))"
   ]
  },
  {
   "cell_type": "markdown",
   "metadata": {},
   "source": [
    "## Initialize Reaction Using Strings\n",
    "Initializing manually is cumbersome and prone to error. Instead, we can use ``.from_string()`` to initialize the reaction more easily."
   ]
  },
  {
   "cell_type": "code",
   "execution_count": 4,
   "metadata": {},
   "outputs": [
    {
     "name": "stdout",
     "output_type": "stream",
     "text": [
      "Creating Reaction object using default string notation: 1.0H2+0.5O2=1.0H2O=1.0H2O\n",
      "Creating Reaction object using custom string notation: 1.0H2+0.5O2=1.0H2O=1.0H2O\n"
     ]
    }
   ],
   "source": [
    "rxn = Reaction.from_string(reaction_str='H2 + 0.5O2 = H2O_TS = H2O', species=species_dict)\n",
    "\n",
    "# See that you get the same stoichiometry as before\n",
    "print('Creating Reaction object using default string notation: {}'.format(rxn))\n",
    "\n",
    "# You can specify the notation for the reaction!\n",
    "rxn = Reaction.from_string(reaction_str='H2 ++ 0.5O2 --> H2O_TS --> H2O', species=species_dict,\n",
    "                           species_delimiter='++', reaction_delimiter='-->')\n",
    "# When reprinting it, it will converts it to the standard notation\n",
    "print('Creating Reaction object using custom string notation: {}'.format(rxn))\n"
   ]
  },
  {
   "cell_type": "markdown",
   "metadata": {},
   "source": [
    "## Calculate Thermodynamic Reaction Properties\n",
    "With the reaction object specified, we can now calculate reaction properties. Let us calculate the standard formation enthalpy and standard entropy."
   ]
  },
  {
   "cell_type": "code",
   "execution_count": 5,
   "metadata": {},
   "outputs": [
    {
     "name": "stdout",
     "output_type": "stream",
     "text": [
      "Calculated using Reaction object:\n",
      "Delta H: -241.82304908408534 kJ/mol\n",
      "Delta S: -44.421363507760766 J/mol/K\n",
      "\n",
      "\n",
      "Expected result from NIST:\n",
      "Delta H: -241.826 kJ/mol\n",
      "Delta S: -44.416 J/mol/K\n"
     ]
    }
   ],
   "source": [
    "from pMuTT import constants as c\n",
    "\n",
    "T = 298.\n",
    "dH_298 = rxn.get_delta_H(T=T, units='kJ/mol')\n",
    "dS_298 = rxn.get_delta_S(T=T, units='J/mol/K')\n",
    "\n",
    "print('Calculated using Reaction object:')\n",
    "print('Delta H: {} kJ/mol'.format(dH_298))\n",
    "print('Delta S: {} J/mol/K'.format(dS_298))\n",
    "print('\\n')\n",
    "print('Expected result from NIST:')\n",
    "print('Delta H: -241.826 kJ/mol')\n",
    "print('Delta S: {} J/mol/K'.format(188.84-130.68-0.5*205.152))"
   ]
  },
  {
   "cell_type": "markdown",
   "metadata": {},
   "source": [
    "A ``Reaction`` object can only calculate properties its reactants, transition state, and products can calculate. In this example, we represented our species as ``Nasa`` objects so we can only calculate change in heat capacity (ΔCp), enthalpy (ΔH), entropy (ΔS), and Gibbs energy (ΔG).\n",
    "\n",
    "If you used ``StatMech`` objects instead of ``Nasa`` objects, you can calculate a wider variety of properties."
   ]
  },
  {
   "cell_type": "markdown",
   "metadata": {},
   "source": [
    "## Calculate Kinetic Reaction Properties\n",
    "Since we added a transition state to the ``Reaction`` object, we can calculate kinetic properties such as the activation energy (Ea) and the pre-exponential factor (A). Since we arbitrarily made a transition state species, take the printed value with a grain of salt"
   ]
  },
  {
   "cell_type": "code",
   "execution_count": 6,
   "metadata": {},
   "outputs": [
    {
     "name": "stdout",
     "output_type": "stream",
     "text": [
      "Forward properties\n",
      "Enthalpy of activation: -241.40732609408533 kJ/mol\n",
      "Activation Energy: -241.40732609408533 kJ/mol\n",
      "Pre-exponential factor: 133105402563.981 1/s\n",
      "\n",
      "\n",
      "Reverse properties\n",
      "Enthalpy of activation: 0.16778523489932695 kJ/mol\n",
      "Activation Energy: 0.16778523489932695 kJ/mol\n",
      "Pre-exponential factor: 16878655744705.234 1/s\n"
     ]
    }
   ],
   "source": [
    "# Forward direction properties (i.e. reactants to transition state)\n",
    "H_TS = rxn.get_H_act(T=T, units='kJ/mol')\n",
    "Ea = rxn.get_E_act(T=T, units='kJ/mol')\n",
    "A = rxn.get_A(T=T)\n",
    "\n",
    "# Take these values with a grain of salt since we arbitrarily \n",
    "# specified our transition state\n",
    "print('Forward properties')\n",
    "print('Enthalpy of activation: {} kJ/mol'.format(H_TS))\n",
    "print('Activation Energy: {} kJ/mol'.format(Ea))\n",
    "print('Pre-exponential factor: {} 1/s'.format(A))\n",
    "print('\\n')\n",
    "# Reverse direction properties (i.e. products to transition state)\n",
    "H_TS_rev = rxn.get_HoRT_act(T=T, rev=True, units='kJ/mol')\n",
    "Ea_rev = rxn.get_EoRT_act(T=T, rev=True, units='kJ/mol')\n",
    "A_rev = rxn.get_A(T=T, rev=True)\n",
    "\n",
    "print('Reverse properties')\n",
    "print('Enthalpy of activation: {} kJ/mol'.format(H_TS_rev))\n",
    "print('Activation Energy: {} kJ/mol'.format(Ea_rev))\n",
    "print('Pre-exponential factor: {} 1/s'.format(A_rev))"
   ]
  },
  {
   "cell_type": "markdown",
   "metadata": {},
   "source": [
    "## Calculating Activation Energy Using BEP Relationships\n",
    "A ``BEP`` object can be used instead of a transition state species to calculate activation energies. Again, we will arbitrarily create a BEP relationship."
   ]
  },
  {
   "cell_type": "code",
   "execution_count": 7,
   "metadata": {},
   "outputs": [
    {
     "name": "stdout",
     "output_type": "stream",
     "text": [
      "Activation energies using different methods\n",
      "Transition State: -241.40732609408533 kJ/mol\n",
      "BEP: 199.4062922231829 kJ/mol\n",
      "Any: -241.40732609408533 kJ/mol\n"
     ]
    }
   ],
   "source": [
    "from pMuTT.reaction.bep import BEP\n",
    "\n",
    "rxn = Reaction.from_string(reaction_str='H2 + 0.5O2 = H2O_TS = H2O', species=species_dict,\n",
    "                           descriptor='delta', slope=0.2, intercept=100.,\n",
    "                           bep=BEP)\n",
    "\n",
    "Ea_TS = rxn.get_E_act(T=T, method='ts', units='kJ/mol')\n",
    "Ea_BEP = rxn.get_E_act(T=T, method='bep', units='kJ/mol')\n",
    "Ea_any = rxn.get_E_act(T=T, method='any', units='kJ/mol')\n",
    "\n",
    "print('Activation energies using different methods')\n",
    "print('Transition State: {} kJ/mol'.format(Ea_TS))\n",
    "print('BEP: {} kJ/mol'.format(Ea_BEP))\n",
    "print('Any: {} kJ/mol'.format(Ea_any))"
   ]
  },
  {
   "cell_type": "markdown",
   "metadata": {},
   "source": [
    "Note that setting method to 'any' uses the transition state preferentially."
   ]
  },
  {
   "cell_type": "markdown",
   "metadata": {},
   "source": [
    "## Saving and Loading our Reaction as JSON\n",
    "Similarly to pMuTT objects, ``Reaction`` objects can be saved to and read from JSON format."
   ]
  },
  {
   "cell_type": "code",
   "execution_count": 8,
   "metadata": {},
   "outputs": [
    {
     "name": "stdout",
     "output_type": "stream",
     "text": [
      "1.0H2+0.5O2=1.0H2O=1.0H2O\n",
      "Delta H: -241.82304908408534 kJ/mol\n",
      "Activation Energy: -241.40732609408533 kJ/mol\n"
     ]
    }
   ],
   "source": [
    "import json\n",
    "from pMuTT.io_.jsonio import pMuTTEncoder, json_to_pMuTT\n",
    "\n",
    "# Saving\n",
    "with open('reaction.json', 'w') as f_ptr:\n",
    "    json.dump(rxn, f_ptr, cls=pMuTTEncoder, indent=True)\n",
    "    \n",
    "# Loading\n",
    "with open('reaction.json', 'r') as f_ptr:\n",
    "    rxn_io = json.load(f_ptr, object_hook=json_to_pMuTT)\n",
    "\n",
    "# (Optional) Print your rxn to show it was loaded correctly\n",
    "dH_298_io = rxn_io.get_delta_H(T=T, units='kJ/mol')\n",
    "Ea_io = rxn_io.get_E_act(T=T, units='kJ/mol')\n",
    "\n",
    "print(rxn_io)\n",
    "print('Delta H: {} kJ/mol'.format(dH_298_io))\n",
    "print('Activation Energy: {} kJ/mol'.format(Ea_io))"
   ]
  },
  {
   "cell_type": "markdown",
   "metadata": {},
   "source": [
    "Here is the resulting JSON file.\n",
    "```\n",
    "{\n",
    " \"class\": \"<class 'pMuTT.reaction.Reaction'>\",\n",
    " \"reactants\": [\n",
    "  {\n",
    "   \"class\": \"<class 'pMuTT.empirical.nasa.Nasa'>\",\n",
    "   \"name\": \"H2\",\n",
    "   \"phase\": \"G\",\n",
    "   \"elements\": {\n",
    "    \"H\": 2\n",
    "   },\n",
    "   \"notes\": \"TPIS78\",\n",
    "   \"references\": null,\n",
    "   \"statmech_model\": null,\n",
    "   \"a_low\": [\n",
    "    2.34433112,\n",
    "    0.00798052075,\n",
    "    -1.9478151e-05,\n",
    "    2.01572094e-08,\n",
    "    -7.37611761e-12,\n",
    "    -917.935173,\n",
    "    0.683010238\n",
    "   ],\n",
    "   \"a_high\": [\n",
    "    3.3372792,\n",
    "    -4.94024731e-05,\n",
    "    4.99456778e-07,\n",
    "    -1.79566394e-10,\n",
    "    2.00255376e-14,\n",
    "    -950.158922,\n",
    "    -3.20502331\n",
    "   ],\n",
    "   \"T_low\": 200.0,\n",
    "   \"T_mid\": 1000.0,\n",
    "   \"T_high\": 3500.0\n",
    "  },\n",
    "  {\n",
    "   \"class\": \"<class 'pMuTT.empirical.nasa.Nasa'>\",\n",
    "   \"name\": \"O2\",\n",
    "   \"phase\": \"G\",\n",
    "   \"elements\": {\n",
    "    \"O\": 2\n",
    "   },\n",
    "   \"notes\": \"TPIS89\",\n",
    "   \"references\": null,\n",
    "   \"statmech_model\": null,\n",
    "   \"a_low\": [\n",
    "    3.78245636,\n",
    "    -0.00299673416,\n",
    "    9.84730201e-06,\n",
    "    -9.68129509e-09,\n",
    "    3.24372837e-12,\n",
    "    -1063.94356,\n",
    "    3.65767573\n",
    "   ],\n",
    "   \"a_high\": [\n",
    "    3.28253784,\n",
    "    0.00148308754,\n",
    "    -7.57966669e-07,\n",
    "    2.09470555e-10,\n",
    "    -2.16717794e-14,\n",
    "    -1088.45772,\n",
    "    5.45323129\n",
    "   ],\n",
    "   \"T_low\": 200.0,\n",
    "   \"T_mid\": 1000.0,\n",
    "   \"T_high\": 3500.0\n",
    "  }\n",
    " ],\n",
    " \"reactants_stoich\": [\n",
    "  1.0,\n",
    "  0.5\n",
    " ],\n",
    " \"products\": [\n",
    "  {\n",
    "   \"class\": \"<class 'pMuTT.empirical.nasa.Nasa'>\",\n",
    "   \"name\": \"H2O\",\n",
    "   \"phase\": \"G\",\n",
    "   \"elements\": {\n",
    "    \"H\": 2,\n",
    "    \"O\": 1\n",
    "   },\n",
    "   \"notes\": \"L 8/89\",\n",
    "   \"references\": null,\n",
    "   \"statmech_model\": null,\n",
    "   \"a_low\": [\n",
    "    4.19864056,\n",
    "    -0.0020364341,\n",
    "    6.52040211e-06,\n",
    "    -5.48797062e-09,\n",
    "    1.77197817e-12,\n",
    "    -30293.7267,\n",
    "    -0.849032208\n",
    "   ],\n",
    "   \"a_high\": [\n",
    "    3.03399249,\n",
    "    0.00217691804,\n",
    "    -1.64072518e-07,\n",
    "    -9.7041987e-11,\n",
    "    1.68200992e-14,\n",
    "    -30004.2971,\n",
    "    4.9667701\n",
    "   ],\n",
    "   \"T_low\": 200.0,\n",
    "   \"T_mid\": 1000.0,\n",
    "   \"T_high\": 3500.0\n",
    "  }\n",
    " ],\n",
    " \"products_stoich\": [\n",
    "  1.0\n",
    " ],\n",
    " \"transition_state\": [\n",
    "  {\n",
    "   \"class\": \"<class 'pMuTT.empirical.nasa.Nasa'>\",\n",
    "   \"name\": \"H2O\",\n",
    "   \"phase\": \"G\",\n",
    "   \"elements\": {\n",
    "    \"H\": 2,\n",
    "    \"O\": 1\n",
    "   },\n",
    "   \"notes\": \"L 8/89\",\n",
    "   \"references\": null,\n",
    "   \"statmech_model\": null,\n",
    "   \"a_low\": [\n",
    "    4.19864056,\n",
    "    -0.0020364341,\n",
    "    6.52040211e-06,\n",
    "    -5.48797062e-09,\n",
    "    1.77197817e-12,\n",
    "    -30243.7267,\n",
    "    -0.849032208\n",
    "   ],\n",
    "   \"a_high\": [\n",
    "    3.03399249,\n",
    "    0.00217691804,\n",
    "    -1.64072518e-07,\n",
    "    -9.7041987e-11,\n",
    "    1.68200992e-14,\n",
    "    -29954.2971,\n",
    "    4.9667701\n",
    "   ],\n",
    "   \"T_low\": 200.0,\n",
    "   \"T_mid\": 1000.0,\n",
    "   \"T_high\": 3500.0\n",
    "  }\n",
    " ],\n",
    " \"transition_state_stoich\": [\n",
    "  1.0\n",
    " ],\n",
    " \"bep\": {\n",
    "  \"class\": \"<class 'pMuTT.reaction.bep.BEP'>\",\n",
    "  \"slope\": 0.2,\n",
    "  \"intercept\": 100.0,\n",
    "  \"descriptor\": \"delta\"\n",
    " }\n",
    "}\n",
    "```"
   ]
  }
 ],
 "metadata": {
  "kernelspec": {
   "display_name": "Python 3",
   "language": "python",
   "name": "python3"
  },
  "language_info": {
   "codemirror_mode": {
    "name": "ipython",
    "version": 3
   },
   "file_extension": ".py",
   "mimetype": "text/x-python",
   "name": "python",
   "nbconvert_exporter": "python",
   "pygments_lexer": "ipython3",
   "version": "3.6.5"
  }
 },
 "nbformat": 4,
 "nbformat_minor": 2
}
