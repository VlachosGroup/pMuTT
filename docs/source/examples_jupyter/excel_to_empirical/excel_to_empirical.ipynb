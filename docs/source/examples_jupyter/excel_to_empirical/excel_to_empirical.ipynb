{
 "cells": [
  {
   "cell_type": "markdown",
   "metadata": {},
   "source": [
    "# Excel to Empirical\n",
    "In this example, we will read *ab-initio* data from an Excel spreadsheet and create a Nasa object from it. Even though we use a Nasa object here, the Shomate class also has the ability to be generated from a StatMech model.\n",
    "\n",
    "## Topics Covered\n",
    "- Reading *ab-initio* data from an Excel file\n",
    "- Initialize Reference objects and a References object\n",
    "- Generate a Nasa object using StatMech models\n",
    "- Write Nasa object to a thermdat file\n",
    "\n",
    "## Files Required\n",
    "- [references.xlsx](references.xlsx) (Excel spreadsheet containing *ab-initio* and experimental data for reference species)\n",
    "- [input.xlsx](input.xlsx) (Excel spreadsheet containing *ab-initio* data for the species you would like to generate Nasa objects\n",
    "- files containing atomic coordinates (files that can be read using ase.io.read. These files are only necessary if using rotational and translational modes (which tend to only be relevant for gas-phase species). For this example, we are using CONTCAR files. \n",
    "\n",
    "## Importing the *ab-initio* data from Excel\n",
    "First, we will import data from the ``input.xlsx`` spreadsheet. The contents of the spreadsheet are shown below."
   ]
  },
  {
   "cell_type": "markdown",
   "metadata": {},
   "source": [
    "| name      | phase | elements.C | elements.H | elements.O | statmech_model | potentialenergy | vib_wavenumber | vib_wavenumber | vib_wavenumber | vib_wavenumber | vib_wavenumber | vib_wavenumber | vib_wavenumber | vib_wavenumber | vib_wavenumber | vib_wavenumber | vib_wavenumber | vib_wavenumber | vib_wavenumber | vib_wavenumber | vib_wavenumber | vib_wavenumber | vib_wavenumber | vib_wavenumber | vib_wavenumber | vib_wavenumber | vib_wavenumber | vib_wavenumber | vib_wavenumber | vib_wavenumber | vib_wavenumber | vib_wavenumber | vib_wavenumber | vib_wavenumber | vib_wavenumber | vib_wavenumber | vib_wavenumber | vib_wavenumber | vib_wavenumber | vib_wavenumber | vib_wavenumber | vib_wavenumber |\n",
    "|-----------|-------|------------|------------|------------|----------------|-----------------|----------------|----------------|----------------|----------------|----------------|----------------|----------------|----------------|----------------|----------------|----------------|----------------|----------------|----------------|----------------|----------------|----------------|----------------|----------------|----------------|----------------|----------------|----------------|----------------|----------------|----------------|----------------|----------------|----------------|----------------|----------------|----------------|----------------|----------------|----------------|----------------|\n",
    "| H2_cus(S) | S     | 0          | 2          | 0          | Harmonic       | -6.98609748     | 3066.979319    | 1520.963162    | 846.589184     | 537.019612     | 469.648212     | 444.089371     |                |                |                |                |                |                |                |                |                |                |                |                |                |                |                |                |                |                |                |                |                |                |                |                |                |                |                |                |                |                |\n",
    "| H2Obr(S)  | S     | 0          | 2          | 1          | Harmonic       | -14.813281      | 3732.4315      | 3615.316915    | 1533.760861    | 451.030069     | 429.209457     | 389.942902     | 204.875732     | 162.988907     | 113.146516     |                |                |                |                |                |                |                |                |                |                |                |                |                |                |                |                |                |                |                |                |                |                |                |                |                |                |                |\n",
    "| H2Ocus(S) | S     | 0          | 2          | 1          | Harmonic       | -15.4204017     | 3732.4315      | 3615.316915    | 1533.760861    | 451.030069     | 429.209457     | 389.942902     | 204.875732     | 162.988907     | 113.146516     |                |                |                |                |                |                |                |                |                |                |                |                |                |                |                |                |                |                |                |                |                |                |                |                |                |                |                |\n",
    "| H_cus(S)  | S     | 0          | 1          | 0          | Harmonic       | -3.47020748     | 1868.8092      | 681.336865     | 578.20889      |                |                |                |                |                |                |                |                |                |                |                |                |                |                |                |                |                |                |                |                |                |                |                |                |                |                |                |                |                |                |                |                |                |\n",
    "| HObr(S)   | S     | 0          | 1          | 1          | Harmonic       | -11.577085      | 3678.377186    | 851.655046     | 573.216546     | 418.298492     | 374.446393     | 204.720161     |                |                |                |                |                |                |                |                |                |                |                |                |                |                |                |                |                |                |                |                |                |                |                |                |                |                |                |                |                |                |\n",
    "| Obr(S)    | S     | 0          | 0          | 1          | Harmonic       | -7.519858       | 537.116485     | 439.995941     | 256.38412      |                |                |                |                |                |                |                |                |                |                |                |                |                |                |                |                |                |                |                |                |                |                |                |                |                |                |                |                |                |                |                |                |                |\n",
    "| IPA(S)    | S     | 3          | 8          | 1          | Harmonic       | -64.935392      | 3072.824921    | 3056.583116    | 3049.635786    | 3038.996872    | 3031.532711    | 3008.868219    | 2969.688478    | 2956.451871    | 1460.613697    | 1454.472854    | 1435.981201    | 1432.413496    | 1413.554005    | 1366.129117    | 1353.211574    | 1327.903925    | 1321.25272     | 1148.721745    | 1130.053472    | 1098.855825    | 933.64652      | 921.005746     | 903.030098     | 825.727381     | 809.440337     | 535.60253      | 414.794848     | 378.193102     | 295.278829     | 237.586784     | 230.560246     | 171.110789     | 129.36901      | 77.415076      | 64.350293      | 56.879635      |"
   ]
  },
  {
   "cell_type": "markdown",
   "metadata": {},
   "source": [
    "To import the data, we use the ``pMuTT.io_.excel.read_excel`` function."
   ]
  },
  {
   "cell_type": "code",
   "execution_count": 1,
   "metadata": {
    "scrolled": true
   },
   "outputs": [
    {
     "name": "stdout",
     "output_type": "stream",
     "text": [
      "[{'elec_model': <class 'pMuTT.statmech.elec.IdealElec'>,\n",
      "  'elements': {'C': 0, 'H': 2, 'O': 0},\n",
      "  'name': 'H2_cus(S)',\n",
      "  'phase': 'S',\n",
      "  'potentialenergy': -6.9860974799998985,\n",
      "  'required': ('vib_wavenumbers', 'potentialenergy', 'spin'),\n",
      "  'statmech_model': <class 'pMuTT.statmech.StatMech'>,\n",
      "  'vib_model': <class 'pMuTT.statmech.vib.HarmonicVib'>,\n",
      "  'vib_wavenumbers': [3066.979319,\n",
      "                      1520.963162,\n",
      "                      846.589184,\n",
      "                      537.019612,\n",
      "                      469.648212,\n",
      "                      444.089371]},\n",
      " {'elec_model': <class 'pMuTT.statmech.elec.IdealElec'>,\n",
      "  'elements': {'C': 0, 'H': 2, 'O': 1},\n",
      "  'name': 'H2Obr(S)',\n",
      "  'phase': 'S',\n",
      "  'potentialenergy': -14.81328099999996,\n",
      "  'required': ('vib_wavenumbers', 'potentialenergy', 'spin'),\n",
      "  'statmech_model': <class 'pMuTT.statmech.StatMech'>,\n",
      "  'vib_model': <class 'pMuTT.statmech.vib.HarmonicVib'>,\n",
      "  'vib_wavenumbers': [3732.4315,\n",
      "                      3615.316915,\n",
      "                      1533.760861,\n",
      "                      451.030069,\n",
      "                      429.209457,\n",
      "                      389.942902,\n",
      "                      204.875732,\n",
      "                      162.988907,\n",
      "                      113.146516]},\n",
      " {'elec_model': <class 'pMuTT.statmech.elec.IdealElec'>,\n",
      "  'elements': {'C': 0, 'H': 2, 'O': 1},\n",
      "  'name': 'H2Ocus(S)',\n",
      "  'phase': 'S',\n",
      "  'potentialenergy': -15.420401699999957,\n",
      "  'required': ('vib_wavenumbers', 'potentialenergy', 'spin'),\n",
      "  'statmech_model': <class 'pMuTT.statmech.StatMech'>,\n",
      "  'vib_model': <class 'pMuTT.statmech.vib.HarmonicVib'>,\n",
      "  'vib_wavenumbers': [3732.4315,\n",
      "                      3615.316915,\n",
      "                      1533.760861,\n",
      "                      451.030069,\n",
      "                      429.209457,\n",
      "                      389.942902,\n",
      "                      204.875732,\n",
      "                      162.988907,\n",
      "                      113.146516]},\n",
      " {'elec_model': <class 'pMuTT.statmech.elec.IdealElec'>,\n",
      "  'elements': {'C': 0, 'H': 1, 'O': 0},\n",
      "  'name': 'H_cus(S)',\n",
      "  'phase': 'S',\n",
      "  'potentialenergy': -3.470207479999999,\n",
      "  'required': ('vib_wavenumbers', 'potentialenergy', 'spin'),\n",
      "  'statmech_model': <class 'pMuTT.statmech.StatMech'>,\n",
      "  'vib_model': <class 'pMuTT.statmech.vib.HarmonicVib'>,\n",
      "  'vib_wavenumbers': [1868.8092, 681.336865, 578.20889]},\n",
      " {'elec_model': <class 'pMuTT.statmech.elec.IdealElec'>,\n",
      "  'elements': {'C': 0, 'H': 1, 'O': 1},\n",
      "  'name': 'HObr(S)',\n",
      "  'phase': 'S',\n",
      "  'potentialenergy': -11.577084999999897,\n",
      "  'required': ('vib_wavenumbers', 'potentialenergy', 'spin'),\n",
      "  'statmech_model': <class 'pMuTT.statmech.StatMech'>,\n",
      "  'vib_model': <class 'pMuTT.statmech.vib.HarmonicVib'>,\n",
      "  'vib_wavenumbers': [3678.377186,\n",
      "                      851.655046,\n",
      "                      573.216546,\n",
      "                      418.298492,\n",
      "                      374.446393,\n",
      "                      204.720161]},\n",
      " {'elec_model': <class 'pMuTT.statmech.elec.IdealElec'>,\n",
      "  'elements': {'C': 0, 'H': 0, 'O': 1},\n",
      "  'name': 'Obr(S)',\n",
      "  'phase': 'S',\n",
      "  'potentialenergy': -7.519857999999886,\n",
      "  'required': ('vib_wavenumbers', 'potentialenergy', 'spin'),\n",
      "  'statmech_model': <class 'pMuTT.statmech.StatMech'>,\n",
      "  'vib_model': <class 'pMuTT.statmech.vib.HarmonicVib'>,\n",
      "  'vib_wavenumbers': [537.116485, 439.995941, 256.38412]},\n",
      " {'elec_model': <class 'pMuTT.statmech.elec.IdealElec'>,\n",
      "  'elements': {'C': 3, 'H': 8, 'O': 1},\n",
      "  'name': 'IPA(S)',\n",
      "  'phase': 'S',\n",
      "  'potentialenergy': -64.93539200000009,\n",
      "  'required': ('vib_wavenumbers', 'potentialenergy', 'spin'),\n",
      "  'statmech_model': <class 'pMuTT.statmech.StatMech'>,\n",
      "  'vib_model': <class 'pMuTT.statmech.vib.HarmonicVib'>,\n",
      "  'vib_wavenumbers': [3072.824921,\n",
      "                      3056.583116,\n",
      "                      3049.635786,\n",
      "                      3038.996872,\n",
      "                      3031.532711,\n",
      "                      3008.868219,\n",
      "                      2969.688478,\n",
      "                      2956.451871,\n",
      "                      1460.613697,\n",
      "                      1454.472854,\n",
      "                      1435.981201,\n",
      "                      1432.413496,\n",
      "                      1413.554005,\n",
      "                      1366.129117,\n",
      "                      1353.211574,\n",
      "                      1327.903925,\n",
      "                      1321.25272,\n",
      "                      1148.721745,\n",
      "                      1130.053472,\n",
      "                      1098.855825,\n",
      "                      933.64652,\n",
      "                      921.005746,\n",
      "                      903.030098,\n",
      "                      825.727381,\n",
      "                      809.440337,\n",
      "                      535.60253,\n",
      "                      414.794848,\n",
      "                      378.193102,\n",
      "                      295.278829,\n",
      "                      237.586784,\n",
      "                      230.560246,\n",
      "                      171.110789,\n",
      "                      129.36901,\n",
      "                      77.415076,\n",
      "                      64.350293,\n",
      "                      56.879635]}]\n"
     ]
    }
   ],
   "source": [
    "from pprint import pprint\n",
    "from pMuTT.io_.excel import read_excel\n",
    "\n",
    "species_data = read_excel(io='input.xlsx')\n",
    "pprint(species_data)"
   ]
  },
  {
   "cell_type": "markdown",
   "metadata": {},
   "source": [
    "Note that the output of ``read_excel`` is a list of dictionaries. Each dictionary in the list corresponds to the data to initialize the objects."
   ]
  },
  {
   "cell_type": "markdown",
   "metadata": {},
   "source": [
    "## Importing the *ab-initio* references data from Excel\n",
    "Before initializing the Nasa objects, we have to adjust the enthalpies from the DFT reference to the standard reference (i.e. pure species have an enthalpy of 0 at 298 K and 1 atm). The references.xlsx file contains the following information."
   ]
  },
  {
   "cell_type": "markdown",
   "metadata": {},
   "source": [
    "| ﻿name | phase | elements.C | elements.H | elements.O | statmech_model | T_ref | HoRT_ref     | potentialenergy | atoms         | symmetrynumber | spin | vib_wavenumber | vib_wavenumber | vib_wavenumber | vib_wavenumber | vib_wavenumber | vib_wavenumber | vib_wavenumber | vib_wavenumber | vib_wavenumber | vib_wavenumber | vib_wavenumber | vib_wavenumber | vib_wavenumber | vib_wavenumber | vib_wavenumber | vib_wavenumber | vib_wavenumber | vib_wavenumber | vib_wavenumber | vib_wavenumber | vib_wavenumber | vib_wavenumber | vib_wavenumber | vib_wavenumber | vib_wavenumber | vib_wavenumber | vib_wavenumber | vib_wavenumber | vib_wavenumber | vib_wavenumber |   |   |   |   |   |   |   |   |   |   |   |   |   |   |   |\n",
    "|------|-------|------------|------------|------------|----------------|-------|--------------|-----------------|---------------|----------------|------|----------------|----------------|----------------|----------------|----------------|----------------|----------------|----------------|----------------|----------------|----------------|----------------|----------------|----------------|----------------|----------------|----------------|----------------|----------------|----------------|----------------|----------------|----------------|----------------|----------------|----------------|----------------|----------------|----------------|----------------|---|---|---|---|---|---|---|---|---|---|---|---|---|---|---|\n",
    "| IPA  | G     | 3          | 8          | 1          | IdealGas       | 298   | -110.1077991 | -63.6353        | ./CONTCAR_IPA | 1              | 0    | 3695.6947      | 3058.1512      | 3056.3031      | 3037.6154      | 3027.4596      | 2977.8791      | 2962.0141      | 2959.4138      | 1455.9381      | 1446.9241      | 1432.5845      | 1430.694       | 1365.4299      | 1359.4158      | 1345.7613      | 1312.957       | 1258.3806      | 1144.4464      | 1121.8044      | 1043.2856      | 936.5137       | 910.6527       | 894.8818       | 802.0075       | 459.1458       | 414.8802       | 355.2703       | 261.3417       | 250.5753       | 219.2591       |   |   |   |   |   |   |   |   |   |   |   |   |   |   |   |\n",
    "| H2O  | G     | 0          | 2          | 1          | IdealGas       | 298   | -97.60604334 | -14.2209        | ./CONTCAR_H2O | 2              | 0    | 3825.434       | 3710.2642      | 1582.432       |                |                |                |                |                |                |                |                |                |                |                |                |                |                |                |                |                |                |                |                |                |                |                |                |                |                |                |   |   |   |   |   |   |   |   |   |   |   |   |   |   |   |\n",
    "| H2   | G     | 0          | 2          | 0          | IdealGas       | 298   | 0            | -6.7598         | ./CONTCAR_H2  | 2              | 0    | 4306.1793      |                |                |                |                |                |                |                |                |                |                |                |                |                |                |                |                |                |                |                |                |                |                |                |                |                |                |                |                |                |   |   |   |   |   |   |   |   |   |   |   |   |   |   |   |"
   ]
  },
  {
   "cell_type": "markdown",
   "metadata": {},
   "source": [
    "Note that these species contain extra fields, such as ``atoms``, ``symmetrynumber``, and ``spin`` since the ``IdealGas`` statistical mechanical model will be used. The ``T_ref`` and ``HoRT_ref`` are extra fields that are necessary for reference species."
   ]
  },
  {
   "cell_type": "code",
   "execution_count": 2,
   "metadata": {},
   "outputs": [
    {
     "name": "stdout",
     "output_type": "stream",
     "text": [
      "[{'HoRT_ref': -110.10779908717083,\n",
      "  'T_ref': 298,\n",
      "  'atoms': Atoms(symbols='H6C5O2', pbc=True, cell=[12.843615942469413, 9.254207587944354, 28.20143514534594]),\n",
      "  'elec_model': <class 'pMuTT.statmech.elec.IdealElec'>,\n",
      "  'elements': {'C': 3, 'H': 8, 'O': 1},\n",
      "  'n_degrees': 3,\n",
      "  'name': 'IPA',\n",
      "  'optional': 'atoms',\n",
      "  'phase': 'G',\n",
      "  'potentialenergy': -63.6353,\n",
      "  'required': ('molecular_weight',\n",
      "               'vib_wavenumbers',\n",
      "               'potentialenergy',\n",
      "               'spin',\n",
      "               'geometry',\n",
      "               'rot_temperatures',\n",
      "               'symmetrynumber'),\n",
      "  'rot_model': <class 'pMuTT.statmech.rot.RigidRotor'>,\n",
      "  'spin': 0,\n",
      "  'statmech_model': <class 'pMuTT.statmech.StatMech'>,\n",
      "  'symmetrynumber': 1,\n",
      "  'trans_model': <class 'pMuTT.statmech.trans.IdealTrans'>,\n",
      "  'vib_model': <class 'pMuTT.statmech.vib.HarmonicVib'>,\n",
      "  'vib_wavenumbers': [3695.6947,\n",
      "                      3058.1512,\n",
      "                      3056.3031,\n",
      "                      3037.6154,\n",
      "                      3027.4596,\n",
      "                      2977.8791,\n",
      "                      2962.0141,\n",
      "                      2959.4138,\n",
      "                      1455.9381,\n",
      "                      1446.9241,\n",
      "                      1432.5845,\n",
      "                      1430.694,\n",
      "                      1365.4299,\n",
      "                      1359.4158,\n",
      "                      1345.7613,\n",
      "                      1312.957,\n",
      "                      1258.3806,\n",
      "                      1144.4464,\n",
      "                      1121.8044,\n",
      "                      1043.2856,\n",
      "                      936.5137,\n",
      "                      910.6527,\n",
      "                      894.8818,\n",
      "                      802.0075,\n",
      "                      459.1458,\n",
      "                      414.8802,\n",
      "                      355.2703,\n",
      "                      261.3417,\n",
      "                      250.5753,\n",
      "                      219.2591]},\n",
      " {'HoRT_ref': -97.60604333597571,\n",
      "  'T_ref': 298,\n",
      "  'atoms': Atoms(symbols='OH2', pbc=True, cell=[20.0, 21.526478, 20.596309]),\n",
      "  'elec_model': <class 'pMuTT.statmech.elec.IdealElec'>,\n",
      "  'elements': {'C': 0, 'H': 2, 'O': 1},\n",
      "  'n_degrees': 3,\n",
      "  'name': 'H2O',\n",
      "  'optional': 'atoms',\n",
      "  'phase': 'G',\n",
      "  'potentialenergy': -14.2209,\n",
      "  'required': ('molecular_weight',\n",
      "               'vib_wavenumbers',\n",
      "               'potentialenergy',\n",
      "               'spin',\n",
      "               'geometry',\n",
      "               'rot_temperatures',\n",
      "               'symmetrynumber'),\n",
      "  'rot_model': <class 'pMuTT.statmech.rot.RigidRotor'>,\n",
      "  'spin': 0,\n",
      "  'statmech_model': <class 'pMuTT.statmech.StatMech'>,\n",
      "  'symmetrynumber': 2,\n",
      "  'trans_model': <class 'pMuTT.statmech.trans.IdealTrans'>,\n",
      "  'vib_model': <class 'pMuTT.statmech.vib.HarmonicVib'>,\n",
      "  'vib_wavenumbers': [3825.434, 3710.2642, 1582.432]},\n",
      " {'HoRT_ref': 0.0,\n",
      "  'T_ref': 298,\n",
      "  'atoms': Atoms(symbols='H2', pbc=True, cell=[20.0, 20.0, 20.737166]),\n",
      "  'elec_model': <class 'pMuTT.statmech.elec.IdealElec'>,\n",
      "  'elements': {'C': 0, 'H': 2, 'O': 0},\n",
      "  'n_degrees': 3,\n",
      "  'name': 'H2',\n",
      "  'optional': 'atoms',\n",
      "  'phase': 'G',\n",
      "  'potentialenergy': -6.7598,\n",
      "  'required': ('molecular_weight',\n",
      "               'vib_wavenumbers',\n",
      "               'potentialenergy',\n",
      "               'spin',\n",
      "               'geometry',\n",
      "               'rot_temperatures',\n",
      "               'symmetrynumber'),\n",
      "  'rot_model': <class 'pMuTT.statmech.rot.RigidRotor'>,\n",
      "  'spin': 0,\n",
      "  'statmech_model': <class 'pMuTT.statmech.StatMech'>,\n",
      "  'symmetrynumber': 2,\n",
      "  'trans_model': <class 'pMuTT.statmech.trans.IdealTrans'>,\n",
      "  'vib_model': <class 'pMuTT.statmech.vib.HarmonicVib'>,\n",
      "  'vib_wavenumbers': [4306.1793]}]\n"
     ]
    }
   ],
   "source": [
    "refs_input = read_excel(io='references.xlsx')\n",
    "pprint(refs_input)"
   ]
  },
  {
   "cell_type": "markdown",
   "metadata": {},
   "source": [
    "Now that we've imported the data, we can make a ``References`` object, which is made of ``Reference`` objects using the following syntax."
   ]
  },
  {
   "cell_type": "code",
   "execution_count": 3,
   "metadata": {},
   "outputs": [
    {
     "name": "stdout",
     "output_type": "stream",
     "text": [
      "{'C': -357.2594948011859, 'H': -124.67018779818414, 'O': -180.8192643991904}\n"
     ]
    }
   ],
   "source": [
    "from pMuTT.empirical.references import Reference, References\n",
    "\n",
    "refs = References(descriptor='elements', \n",
    "                  references=[Reference(**ref_input) \n",
    "                              for ref_input in refs_input])\n",
    "print(refs.offset)"
   ]
  },
  {
   "cell_type": "markdown",
   "metadata": {},
   "source": [
    "The ``References`` object calculated the offset between C, H, and O."
   ]
  },
  {
   "cell_type": "markdown",
   "metadata": {},
   "source": [
    "## Initialize the Nasa objects\n",
    "The ``from_statmech`` method allows us to initialize the Nasa objects from the data."
   ]
  },
  {
   "cell_type": "code",
   "execution_count": 4,
   "metadata": {},
   "outputs": [
    {
     "name": "stdout",
     "output_type": "stream",
     "text": [
      "Nasa object for Name: H2_cus(S)\n",
      "\tphase: S\n",
      "\telements: {'C': 0, 'H': 2, 'O': 0}\n",
      "\treferences: <pMuTT.empirical.references.References object at 0x000002019F43B710>\n",
      "\tnotes: None\n",
      "\tstatmech_model: <pMuTT.statmech.StatMech object at 0x000002019F8DE8D0>\n",
      "\tT_low: 300.0\n",
      "\tT_mid: 610.204081632653\n",
      "\tT_high: 1100.0\n",
      "\ta_low: [-2.37252750e+00  2.60714871e-02 -4.73583826e-05  4.61096590e-08\n",
      " -1.83624246e-11 -1.68126562e+03  8.63949434e+00]\n",
      "\ta_high: [-1.32355622e-01  1.17210568e-02 -1.21067695e-05  6.77414609e-09\n",
      " -1.56703390e-12 -1.96714519e+03 -1.13778416e+00]\n"
     ]
    }
   ],
   "source": [
    "from pMuTT.empirical.nasa import Nasa\n",
    "\n",
    "T_low = 300. # K\n",
    "T_high = 1100. # K\n",
    "\n",
    "species = [Nasa.from_statmech(references=refs, T_low=T_low, T_high=T_high, \n",
    "                              **specie_data) for specie_data in species_data]\n",
    "# Printing an example of a Nasa species\n",
    "print(species[0])"
   ]
  },
  {
   "cell_type": "markdown",
   "metadata": {},
   "source": [
    "## Writing Nasa objects to a Thermdat file"
   ]
  },
  {
   "cell_type": "code",
   "execution_count": 5,
   "metadata": {},
   "outputs": [],
   "source": [
    "from pMuTT.io_.thermdat import write_thermdat\n",
    "\n",
    "write_thermdat(nasa_species=species, filename='thermdat',\n",
    "               write_date=True)"
   ]
  },
  {
   "cell_type": "markdown",
   "metadata": {},
   "source": [
    "```\n",
    "THERMO ALL\n",
    "       100       500      1500\n",
    "H2_cus(S)       20181106H   2               S300.0     1100.0    610.2         1\n",
    "-1.32355622E-01 1.17210568E-02-1.21067695E-05 6.77414609E-09-1.56703390E-12    2\n",
    "-1.96714519E+03-1.13778416E+00-2.37252750E+00 2.60714871E-02-4.73583826E-05    3\n",
    " 4.61096590E-08-1.83624246E-11-1.68126562E+03 8.63949434E+00                   4\n",
    "H2Obr(S)        20181106H   2O   1          S300.0     1100.0    561.2         1\n",
    " 3.33914632E+00 8.65676156E-03-1.03441245E-05 7.11690970E-09-1.91112739E-12    2\n",
    "-3.65073462E+04-1.59589792E+01 3.68293150E-01 3.06585581E-02-7.30019576E-05    3\n",
    " 8.80731362E-08-4.17597362E-11-3.61771342E+04-3.41520582E+00                   4\n",
    "H2Ocus(S)       20181106H   2O   1          S300.0     1100.0    561.2         1\n",
    " 3.33914632E+00 8.65676156E-03-1.03441245E-05 7.11690970E-09-1.91112739E-12    2\n",
    "-4.35526918E+04-1.59589792E+01 3.68293150E-01 3.06585581E-02-7.30019576E-05    3\n",
    " 8.80731362E-08-4.17597362E-11-4.32224798E+04-3.41520582E+00                   4\n",
    "H_cus(S)        20181106H   1               S300.0     1100.0    544.9         1\n",
    "-4.56626289E-01 6.52756961E-03-5.72385869E-06 2.56064809E-09-4.74217654E-13    2\n",
    "-8.86598312E+02 1.29145407E+00-1.70971795E+00 1.57880872E-02-3.17011214E-05    3\n",
    " 3.53093929E-08-1.61102148E-11-7.49187896E+02 6.57564204E+00                   4\n",
    "HObr(S)         20181106H   1O   1          S300.0     1100.0    610.2         1\n",
    " 1.32317902E+00 1.07943705E-02-1.40435635E-05 9.13293283E-09-2.29632826E-12    2\n",
    "-3.92614463E+04-7.89440118E+00-1.90464381E+00 3.13120166E-02-6.40095247E-05    3\n",
    " 6.43701568E-08-2.56553082E-11-3.88467774E+04 6.21680636E+00                   4\n",
    "Obr(S)          20181106O   1               S300.0     1100.0    561.2         1\n",
    " 1.10929486E+00 6.02227730E-03-8.09582034E-06 5.13595359E-09-1.26396875E-12    2\n",
    "-3.27394702E+04-6.27416658E+00-1.46028728E+00 2.43280424E-02-5.80735069E-05    3\n",
    " 6.69898412E-08-3.04663321E-11-3.24443213E+04 4.66839332E+00                   4\n",
    "IPA(S)          20181106C   3H   8O   1     S300.0     1100.0    544.9         1\n",
    "-2.41027713E+00 6.03014873E-02-5.21384920E-05 2.61809899E-08-5.76980678E-12    2\n",
    "-4.86845128E+04 1.14685801E+01 6.36065045E+00-8.82654398E-03 1.52433654E-04    3\n",
    "-2.43446336E-07 1.27830717E-10-4.95747767E+04-2.48996210E+01                   4\n",
    "END\n",
    "```"
   ]
  },
  {
   "cell_type": "markdown",
   "metadata": {},
   "source": [
    "## Checking the fit of the Nasa object\n",
    "To see if the Nasa object's predictions of the thermodynamic data matches the statistical mechanical model inputted, use the ``plot_statmech_and_empirical`` method."
   ]
  },
  {
   "cell_type": "code",
   "execution_count": 6,
   "metadata": {},
   "outputs": [
    {
     "data": {
      "image/png": "[encoded data removed]",
      "text/plain": [
       "<matplotlib.figure.Figure at 0x201a62f7438>"
      ]
     },
     "metadata": {},
     "output_type": "display_data"
    }
   ],
   "source": [
    "fig, axes = species[0].plot_statmech_and_empirical(Cp_units='J/mol/K',\n",
    "                                                   H_units='kJ/mol',\n",
    "                                                   S_units='J/mol/K',\n",
    "                                                   G_units='kJ/mol')\n",
    "fig.set_size_inches((10, 8))"
   ]
  }
 ],
 "metadata": {
  "kernelspec": {
   "display_name": "Python 3",
   "language": "python",
   "name": "python3"
  },
  "language_info": {
   "codemirror_mode": {
    "name": "ipython",
    "version": 3
   },
   "file_extension": ".py",
   "mimetype": "text/x-python",
   "name": "python",
   "nbconvert_exporter": "python",
   "pygments_lexer": "ipython3",
   "version": "3.6.7"
  }
 },
 "nbformat": 4,
 "nbformat_minor": 2
}
